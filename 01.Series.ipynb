{
 "cells": [
  {
   "cell_type": "markdown",
   "id": "74b1e599",
   "metadata": {},
   "source": [
    "# Pandas\n",
    "데이터분석 라이브러리"
   ]
  },
  {
   "cell_type": "code",
   "execution_count": 1,
   "id": "b2d11fbd",
   "metadata": {
    "ExecuteTime": {
     "end_time": "2023-01-13T07:45:16.447923Z",
     "start_time": "2023-01-13T07:45:14.612938Z"
    }
   },
   "outputs": [],
   "source": [
    "import pandas as pd"
   ]
  },
  {
   "cell_type": "markdown",
   "id": "bb7cc53a",
   "metadata": {},
   "source": [
    "# series\n",
    "1차원 데이터(정수, 실수, 문자열 등)"
   ]
  },
  {
   "cell_type": "markdown",
   "id": "d86bccb8",
   "metadata": {
    "ExecuteTime": {
     "end_time": "2023-01-13T07:46:54.889131Z",
     "start_time": "2023-01-13T07:46:54.877269Z"
    }
   },
   "source": [
    "## series 객체 생성\n",
    "예) 1~4월 까지 평균 온도 데이터"
   ]
  },
  {
   "cell_type": "code",
   "execution_count": 5,
   "id": "402d62a3",
   "metadata": {
    "ExecuteTime": {
     "end_time": "2023-01-13T07:47:32.324675Z",
     "start_time": "2023-01-13T07:47:32.311433Z"
    }
   },
   "outputs": [
    {
     "name": "stdout",
     "output_type": "stream",
     "text": [
      "0   -20\n",
      "1   -10\n",
      "2    10\n",
      "3    20\n",
      "dtype: int64\n"
     ]
    }
   ],
   "source": [
    "temp = pd.Series([-20, -10, 10, 20])\n",
    "print(temp)"
   ]
  },
  {
   "cell_type": "code",
   "execution_count": 7,
   "id": "6cbb20f6",
   "metadata": {
    "ExecuteTime": {
     "end_time": "2023-01-13T07:48:46.739101Z",
     "start_time": "2023-01-13T07:48:46.721697Z"
    }
   },
   "outputs": [
    {
     "data": {
      "text/plain": [
       "-20"
      ]
     },
     "execution_count": 7,
     "metadata": {},
     "output_type": "execute_result"
    }
   ],
   "source": [
    "temp[0] #1월 온도"
   ]
  },
  {
   "cell_type": "code",
   "execution_count": 10,
   "id": "a7b2761c",
   "metadata": {
    "ExecuteTime": {
     "end_time": "2023-01-13T07:49:12.591621Z",
     "start_time": "2023-01-13T07:49:12.567584Z"
    }
   },
   "outputs": [
    {
     "data": {
      "text/plain": [
       "10"
      ]
     },
     "execution_count": 10,
     "metadata": {},
     "output_type": "execute_result"
    }
   ],
   "source": [
    "temp[2] #3월 온도"
   ]
  },
  {
   "cell_type": "markdown",
   "id": "c60de0ed",
   "metadata": {},
   "source": [
    "# series 객체 생성(index 지정)"
   ]
  },
  {
   "cell_type": "code",
   "execution_count": 12,
   "id": "ee84f11c",
   "metadata": {
    "ExecuteTime": {
     "end_time": "2023-01-13T07:50:27.861866Z",
     "start_time": "2023-01-13T07:50:27.835935Z"
    }
   },
   "outputs": [
    {
     "data": {
      "text/plain": [
       "Jan   -20\n",
       "Feb   -10\n",
       "Mar    10\n",
       "Apr    20\n",
       "dtype: int64"
      ]
     },
     "execution_count": 12,
     "metadata": {},
     "output_type": "execute_result"
    }
   ],
   "source": [
    "temp = pd.Series([-20, -10, 10, 20], index=['Jan', 'Feb', 'Mar', 'Apr'])\n",
    "temp"
   ]
  },
  {
   "cell_type": "code",
   "execution_count": 15,
   "id": "0ec17a9b",
   "metadata": {
    "ExecuteTime": {
     "end_time": "2023-01-13T07:50:49.119443Z",
     "start_time": "2023-01-13T07:50:49.103648Z"
    }
   },
   "outputs": [
    {
     "data": {
      "text/plain": [
       "-20"
      ]
     },
     "execution_count": 15,
     "metadata": {},
     "output_type": "execute_result"
    }
   ],
   "source": [
    "# index jan에 해당하는 데이터 출력\n",
    "temp['Jan']"
   ]
  },
  {
   "cell_type": "code",
   "execution_count": 16,
   "id": "9ec8d0d2",
   "metadata": {
    "ExecuteTime": {
     "end_time": "2023-01-13T07:50:57.840703Z",
     "start_time": "2023-01-13T07:50:57.831075Z"
    }
   },
   "outputs": [
    {
     "data": {
      "text/plain": [
       "-10"
      ]
     },
     "execution_count": 16,
     "metadata": {},
     "output_type": "execute_result"
    }
   ],
   "source": [
    "temp['Feb']"
   ]
  },
  {
   "cell_type": "code",
   "execution_count": 18,
   "id": "f3c6d85f",
   "metadata": {
    "ExecuteTime": {
     "end_time": "2023-01-13T07:51:37.490312Z",
     "start_time": "2023-01-13T07:51:37.477096Z"
    }
   },
   "outputs": [],
   "source": [
    "#존재하지 않는 index 접근 시도 시 에러\n",
    "#temp['Jun']"
   ]
  }
 ],
 "metadata": {
  "kernelspec": {
   "display_name": "Python 3 (ipykernel)",
   "language": "python",
   "name": "python3"
  },
  "language_info": {
   "codemirror_mode": {
    "name": "ipython",
    "version": 3
   },
   "file_extension": ".py",
   "mimetype": "text/x-python",
   "name": "python",
   "nbconvert_exporter": "python",
   "pygments_lexer": "ipython3",
   "version": "3.9.7"
  },
  "toc": {
   "base_numbering": 1,
   "nav_menu": {},
   "number_sections": true,
   "sideBar": true,
   "skip_h1_title": false,
   "title_cell": "Table of Contents",
   "title_sidebar": "Contents",
   "toc_cell": false,
   "toc_position": {},
   "toc_section_display": true,
   "toc_window_display": false
  }
 },
 "nbformat": 4,
 "nbformat_minor": 5
}
